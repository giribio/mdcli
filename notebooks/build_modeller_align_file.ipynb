{
 "cells": [
  {
   "cell_type": "code",
   "execution_count": 2,
   "metadata": {},
   "outputs": [],
   "source": [
    "from Bio.PDB import PDBParser\n",
    "from Bio.PDB.Selection import unfold_entities\n",
    "import numpy as np\n",
    "from Bio.SeqUtils import seq1\n",
    "import textwrap"
   ]
  },
  {
   "cell_type": "code",
   "execution_count": 3,
   "metadata": {},
   "outputs": [],
   "source": [
    "def insert_gap(aaindex, residue_list):\n",
    "    \"\"\"\n",
    "    Inserts a gap in the residue list in the position corresponding to the amino acid index.\n",
    "    \"\"\"\n",
    "    tmplist = residue_list.copy()\n",
    "    for index, res in enumerate(residue_list):\n",
    "        if aaindex < res[0]:  # Given index less than current index in list\n",
    "            tmplist.insert(index, (aaindex, \"-\"))\n",
    "            return tmplist\n",
    "    tmplist.append((aaindex, \"-\"))\n",
    "    return tmplist"
   ]
  },
  {
   "cell_type": "code",
   "execution_count": 4,
   "metadata": {},
   "outputs": [],
   "source": [
    "def insert_gap(aaindex, residue_list):\n",
    "    \"\"\"\n",
    "    Inserts a gap in the residue list in the position corresponding to the amino acid index.\n",
    "    \"\"\"\n",
    "    tmplist = residue_list.copy()\n",
    "    for index, res in enumerate(tmplist):\n",
    "        if aaindex < res[0]:  # Given index less than current index in list\n",
    "            residue_list.insert(index, (aaindex, \"-\"))\n",
    "            return tmplist\n",
    "    residue_list.append((aaindex, \"-\"))"
   ]
  },
  {
   "cell_type": "code",
   "execution_count": 5,
   "metadata": {},
   "outputs": [],
   "source": [
    "testseq = [(100,\"A\"), (101,\"B\"), (105,\"C\")]"
   ]
  },
  {
   "cell_type": "code",
   "execution_count": 6,
   "metadata": {},
   "outputs": [],
   "source": [
    "insert_gap(106, insert_gap(103,insert_gap(90,insert_gap(92,insert_gap(104,testseq)))))"
   ]
  },
  {
   "cell_type": "code",
   "execution_count": 7,
   "metadata": {},
   "outputs": [
    {
     "data": {
      "text/plain": [
       "[(100, 'A'), (101, 'B'), (104, '-'), (105, 'C')]"
      ]
     },
     "execution_count": 7,
     "metadata": {},
     "output_type": "execute_result"
    }
   ],
   "source": [
    "testseq"
   ]
  },
  {
   "cell_type": "code",
   "execution_count": 8,
   "metadata": {},
   "outputs": [
    {
     "data": {
      "text/plain": [
       "[(100, 'A'), (101, 'B'), (104, '-'), (105, 'C')]"
      ]
     },
     "execution_count": 8,
     "metadata": {},
     "output_type": "execute_result"
    }
   ],
   "source": [
    "insert_gap(103, testseq)"
   ]
  },
  {
   "cell_type": "code",
   "execution_count": 9,
   "metadata": {},
   "outputs": [
    {
     "data": {
      "text/plain": [
       "[(100, 'A'), (101, 'B'), (103, '-'), (104, '-'), (105, 'C')]"
      ]
     },
     "execution_count": 9,
     "metadata": {},
     "output_type": "execute_result"
    }
   ],
   "source": [
    "testseq"
   ]
  },
  {
   "cell_type": "code",
   "execution_count": 5,
   "metadata": {},
   "outputs": [],
   "source": [
    "# Read structure and extract present and missing residues\n",
    "pdbparser = PDBParser()\n",
    "structure = pdbparser.get_structure('dbl6e', '/home/ijpulidos/workdir/uniandes/MPTG-CPB/Thesis/PDBs/2y8d.pdb')\n",
    "residues = unfold_entities(structure, \"R\")\n",
    "missing_residues = structure.header['missing_residues']"
   ]
  },
  {
   "cell_type": "code",
   "execution_count": 7,
   "metadata": {},
   "outputs": [],
   "source": [
    "residues_list = [(residue.id[1], seq1(residue.resname)) for residue in residues if residue.id[0]==\" \" ]\n",
    "for mis_res in missing_residues:\n",
    "    insert_gap(mis_res['ssseq'], residues_list)"
   ]
  },
  {
   "cell_type": "code",
   "execution_count": 8,
   "metadata": {},
   "outputs": [],
   "source": [
    "cadena = \"\".join(np.array(residues_list)[:,1])"
   ]
  },
  {
   "cell_type": "code",
   "execution_count": null,
   "metadata": {},
   "outputs": [],
   "source": [
    "textwrap.wrap(cadena, width=75, break_on_hyphens=False)"
   ]
  },
  {
   "cell_type": "code",
   "execution_count": null,
   "metadata": {},
   "outputs": [],
   "source": [
    "full_seq.replace?"
   ]
  },
  {
   "cell_type": "code",
   "execution_count": 9,
   "metadata": {},
   "outputs": [],
   "source": [
    "# Building full sequence\n",
    "full_seq = cadena\n",
    "for mis_res in missing_residues:\n",
    "    full_seq = full_seq.replace(\"-\", seq1(mis_res[\"res_name\"]), 1)"
   ]
  },
  {
   "cell_type": "code",
   "execution_count": 10,
   "metadata": {},
   "outputs": [
    {
     "data": {
      "text/plain": [
       "'GNDYICNKYKNIHDRMKKNNGNFVTDNFVKKSWEISNGVLIPPRRKNLFLYIDPSKICEYKKDPKLFKDFIYWSAFTEVERLKKAYGGARAKVVHAMKYSFTDIGSIIKGDDMMEKNSSDKIGKILGDTDGQNEKRKKWWDMNKYHIWESMLCGYREAEGDTETNENCRFPDIESVPQFLRWFQEWSENFCDRRQKLYDKLNSECISAECTNGSVDNSKCTHACVNYKNYILTKKTEYEIQTNKYDNEFKNKNSNDKDAPDYLKEKCNDNKCECLNKHIDDKNKTWKNPYETLEDTFKSKCDCPKP'"
      ]
     },
     "execution_count": 10,
     "metadata": {},
     "output_type": "execute_result"
    }
   ],
   "source": [
    "full_seq"
   ]
  },
  {
   "cell_type": "code",
   "execution_count": 11,
   "metadata": {},
   "outputs": [],
   "source": [
    "# Writing to file (test)\n",
    "# Remember sequences have to end with the * character\n",
    "with open(\"protein-alignment.ali\", \"w\") as file:\n",
    "    # Writing structure section\n",
    "    file.write(\">P1;\" + structure.id + \"\\n\")\n",
    "    file.write(\"structureX:\" + structure.id + 8*':' + \"\\n\")\n",
    "    for line in textwrap.wrap(cadena+\"*\", width=75, break_on_hyphens=False):\n",
    "        file.write(\"%s\\n\" % line)\n",
    "    # Writing sequence section\n",
    "    file.write(\">P1;\" + structure.id + \"_fill\\n\")\n",
    "    file.write(\"sequence:\" + 9*':' + \"\\n\")\n",
    "    for line in textwrap.wrap(full_seq+\"*\", width=75, break_on_hyphens=False):\n",
    "        file.write(\"%s\\n\" % line)"
   ]
  },
  {
   "cell_type": "markdown",
   "metadata": {},
   "source": [
    "# Completing the residues with modeller\n",
    "\n",
    "based on https://salilab.org/modeller/wiki/Missing%20residues and http://www.msg.ucsf.edu/local/programs/modeller/node380.html#alignmentformat (for the alignment file format)"
   ]
  },
  {
   "cell_type": "code",
   "execution_count": 13,
   "metadata": {},
   "outputs": [
    {
     "name": "stdout",
     "output_type": "stream",
     "text": [
      "openf___224_> Open           $(LIB)/restyp.lib\n",
      "openf___224_> Open           ${MODINSTALL9v21}/modlib/resgrp.lib\n",
      "rdresgr_266_> Number of residue groups:        2\n",
      "openf___224_> Open           ${MODINSTALL9v21}/modlib/sstruc.lib\n",
      "\n",
      "Dynamically allocated memory at   amaxlibraries [B,KiB,MiB]:       455816     445.133     0.435\n",
      "\n",
      "Dynamically allocated memory at   amaxlibraries [B,KiB,MiB]:       456344     445.648     0.435\n",
      "openf___224_> Open           ${MODINSTALL9v21}/modlib/resdih.lib\n",
      "\n",
      "Dynamically allocated memory at   amaxlibraries [B,KiB,MiB]:       504944     493.109     0.482\n",
      "rdrdih__263_> Number of dihedral angle types         :        9\n",
      "              Maximal number of dihedral angle optima:        3\n",
      "              Dihedral angle names                   :  Alph Phi Psi Omeg chi1 chi2 chi3 chi4 chi5\n",
      "openf___224_> Open           ${MODINSTALL9v21}/modlib/radii.lib\n",
      "\n",
      "Dynamically allocated memory at   amaxlibraries [B,KiB,MiB]:       518244     506.098     0.494\n",
      "openf___224_> Open           ${MODINSTALL9v21}/modlib/radii14.lib\n",
      "openf___224_> Open           ${MODINSTALL9v21}/modlib/af_mnchdef.lib\n",
      "rdwilmo_274_> Mainchain residue conformation classes:  APBLE\n",
      "openf___224_> Open           ${MODINSTALL9v21}/modlib/mnch.lib\n",
      "rdclass_257_> Number of classes:        5\n",
      "openf___224_> Open           ${MODINSTALL9v21}/modlib/mnch1.lib\n",
      "openf___224_> Open           ${MODINSTALL9v21}/modlib/mnch2.lib\n",
      "openf___224_> Open           ${MODINSTALL9v21}/modlib/mnch3.lib\n",
      "openf___224_> Open           ${MODINSTALL9v21}/modlib/xs4.mat\n",
      "rdrrwgh_268_> Number of residue types:       21\n",
      "openf___224_> Open           protein-alignment.ali\n",
      "\n",
      "Dynamically allocated memory at   amaxalignment [B,KiB,MiB]:       529737     517.321     0.505\n",
      "\n",
      "Dynamically allocated memory at   amaxalignment [B,KiB,MiB]:       531187     518.737     0.507\n",
      "\n",
      "Dynamically allocated memory at   amaxalignment [B,KiB,MiB]:       534087     521.569     0.509\n",
      "\n",
      "Dynamically allocated memory at   amaxalignment [B,KiB,MiB]:       539887     527.233     0.515\n",
      "pdbnam_____E> Filename for PDB code not found: dbl6e\n",
      "              Directories: .:atom_files\n",
      "              Extensions : :.atm:.pdb:.ent:.cif:.crd\n",
      "              (Also tried prepending 'pdb', looking for .Z, .gz, .bz2, .7z, .xz,\n",
      "              and trying PDB-style subdirectories - e.g. ab for pdb1abc.ent)\n",
      "\n",
      "\n",
      "Dynamically allocated memory at   amaxalignment [B,KiB,MiB]:       543663     530.921     0.518\n"
     ]
    },
    {
     "ename": "OSError",
     "evalue": "pdbnam_____E> Filename for PDB code not found: dbl6e\n              Directories: .:atom_files\n              Extensions : :.atm:.pdb:.ent:.cif:.crd\n              (Also tried prepending 'pdb', looking for .Z, .gz, .bz2, .7z, .xz,\n              and trying PDB-style subdirectories - e.g. ab for pdb1abc.ent)\n",
     "output_type": "error",
     "traceback": [
      "\u001b[0;31m---------------------------------------------------------------------------\u001b[0m",
      "\u001b[0;31mOSError\u001b[0m                                   Traceback (most recent call last)",
      "\u001b[0;32m<ipython-input-13-3cb78f6463a2>\u001b[0m in \u001b[0;36m<module>\u001b[0;34m\u001b[0m\n\u001b[1;32m     17\u001b[0m \u001b[0ma\u001b[0m\u001b[0;34m.\u001b[0m\u001b[0mloop\u001b[0m\u001b[0;34m.\u001b[0m\u001b[0mmd_level\u001b[0m       \u001b[0;34m=\u001b[0m \u001b[0mrefine\u001b[0m\u001b[0;34m.\u001b[0m\u001b[0mfast\u001b[0m\u001b[0;34m\u001b[0m\u001b[0;34m\u001b[0m\u001b[0m\n\u001b[1;32m     18\u001b[0m \u001b[0;34m\u001b[0m\u001b[0m\n\u001b[0;32m---> 19\u001b[0;31m \u001b[0ma\u001b[0m\u001b[0;34m.\u001b[0m\u001b[0mmake\u001b[0m\u001b[0;34m(\u001b[0m\u001b[0;34m)\u001b[0m\u001b[0;34m\u001b[0m\u001b[0;34m\u001b[0m\u001b[0m\n\u001b[0m",
      "\u001b[0;32m~/anaconda3/envs/pymdtools-env/lib/python3.7/site-packages/modeller/automodel/loopmodel.py\u001b[0m in \u001b[0;36mmake\u001b[0;34m(self, exit_stage)\u001b[0m\n\u001b[1;32m     35\u001b[0m             \u001b[0mself\u001b[0m\u001b[0;34m.\u001b[0m\u001b[0mbuild_seq\u001b[0m\u001b[0;34m(\u001b[0m\u001b[0mself\u001b[0m\u001b[0;34m.\u001b[0m\u001b[0minimodel\u001b[0m\u001b[0;34m,\u001b[0m \u001b[0;36m1\u001b[0m\u001b[0;34m)\u001b[0m\u001b[0;34m\u001b[0m\u001b[0;34m\u001b[0m\u001b[0m\n\u001b[1;32m     36\u001b[0m         \u001b[0;32melse\u001b[0m\u001b[0;34m:\u001b[0m\u001b[0;34m\u001b[0m\u001b[0;34m\u001b[0m\u001b[0m\n\u001b[0;32m---> 37\u001b[0;31m             \u001b[0mautomodel\u001b[0m\u001b[0;34m.\u001b[0m\u001b[0mmake\u001b[0m\u001b[0;34m(\u001b[0m\u001b[0mself\u001b[0m\u001b[0;34m,\u001b[0m \u001b[0mexit_stage\u001b[0m\u001b[0;34m)\u001b[0m\u001b[0;34m\u001b[0m\u001b[0;34m\u001b[0m\u001b[0m\n\u001b[0m\u001b[1;32m     38\u001b[0m         \u001b[0mself\u001b[0m\u001b[0;34m.\u001b[0m\u001b[0mwrite_summary\u001b[0m\u001b[0;34m(\u001b[0m\u001b[0mself\u001b[0m\u001b[0;34m.\u001b[0m\u001b[0mloop\u001b[0m\u001b[0;34m.\u001b[0m\u001b[0moutputs\u001b[0m\u001b[0;34m,\u001b[0m \u001b[0;34m'loop models'\u001b[0m\u001b[0;34m)\u001b[0m\u001b[0;34m\u001b[0m\u001b[0;34m\u001b[0m\u001b[0m\n\u001b[1;32m     39\u001b[0m \u001b[0;34m\u001b[0m\u001b[0m\n",
      "\u001b[0;32m~/anaconda3/envs/pymdtools-env/lib/python3.7/site-packages/modeller/automodel/automodel.py\u001b[0m in \u001b[0;36mmake\u001b[0;34m(self, exit_stage)\u001b[0m\n\u001b[1;32m    131\u001b[0m \u001b[0;34m\u001b[0m\u001b[0m\n\u001b[1;32m    132\u001b[0m         \u001b[0mself\u001b[0m\u001b[0;34m.\u001b[0m\u001b[0moutputs\u001b[0m \u001b[0;34m=\u001b[0m \u001b[0;34m[\u001b[0m\u001b[0;34m]\u001b[0m\u001b[0;34m\u001b[0m\u001b[0;34m\u001b[0m\u001b[0m\n\u001b[0;32m--> 133\u001b[0;31m         \u001b[0mself\u001b[0m\u001b[0;34m.\u001b[0m\u001b[0mhomcsr\u001b[0m\u001b[0;34m(\u001b[0m\u001b[0mexit_stage\u001b[0m\u001b[0;34m)\u001b[0m\u001b[0;34m\u001b[0m\u001b[0;34m\u001b[0m\u001b[0m\n\u001b[0m\u001b[1;32m    134\u001b[0m         \u001b[0;31m# Exit early?\u001b[0m\u001b[0;34m\u001b[0m\u001b[0;34m\u001b[0m\u001b[0;34m\u001b[0m\u001b[0m\n\u001b[1;32m    135\u001b[0m         \u001b[0;32mif\u001b[0m \u001b[0mexit_stage\u001b[0m \u001b[0;34m>=\u001b[0m \u001b[0;36m1\u001b[0m\u001b[0;34m:\u001b[0m\u001b[0;34m\u001b[0m\u001b[0;34m\u001b[0m\u001b[0m\n",
      "\u001b[0;32m~/anaconda3/envs/pymdtools-env/lib/python3.7/site-packages/modeller/automodel/automodel.py\u001b[0m in \u001b[0;36mhomcsr\u001b[0;34m(self, exit_stage)\u001b[0m\n\u001b[1;32m    593\u001b[0m         \u001b[0;34m\"\"\"Construct the initial model and restraints\"\"\"\u001b[0m\u001b[0;34m\u001b[0m\u001b[0;34m\u001b[0m\u001b[0m\n\u001b[1;32m    594\u001b[0m         \u001b[0;31m# Check the alignment\u001b[0m\u001b[0;34m\u001b[0m\u001b[0;34m\u001b[0m\u001b[0;34m\u001b[0m\u001b[0m\n\u001b[0;32m--> 595\u001b[0;31m         \u001b[0maln\u001b[0m \u001b[0;34m=\u001b[0m \u001b[0mself\u001b[0m\u001b[0;34m.\u001b[0m\u001b[0mread_alignment\u001b[0m\u001b[0;34m(\u001b[0m\u001b[0;34m)\u001b[0m\u001b[0;34m\u001b[0m\u001b[0;34m\u001b[0m\u001b[0m\n\u001b[0m\u001b[1;32m    596\u001b[0m \u001b[0;34m\u001b[0m\u001b[0m\n\u001b[1;32m    597\u001b[0m         \u001b[0;31m# Since in general we do not want to loose the original alignment file\u001b[0m\u001b[0;34m\u001b[0m\u001b[0;34m\u001b[0m\u001b[0;34m\u001b[0m\u001b[0m\n",
      "\u001b[0;32m~/anaconda3/envs/pymdtools-env/lib/python3.7/site-packages/modeller/automodel/automodel.py\u001b[0m in \u001b[0;36mread_alignment\u001b[0;34m(self, aln)\u001b[0m\n\u001b[1;32m    554\u001b[0m             \u001b[0maln\u001b[0m \u001b[0;34m=\u001b[0m \u001b[0malignment\u001b[0m\u001b[0;34m(\u001b[0m\u001b[0mself\u001b[0m\u001b[0;34m.\u001b[0m\u001b[0menv\u001b[0m\u001b[0;34m)\u001b[0m\u001b[0;34m\u001b[0m\u001b[0;34m\u001b[0m\u001b[0m\n\u001b[1;32m    555\u001b[0m         \u001b[0maln\u001b[0m\u001b[0;34m.\u001b[0m\u001b[0mclear\u001b[0m\u001b[0;34m(\u001b[0m\u001b[0;34m)\u001b[0m\u001b[0;34m\u001b[0m\u001b[0;34m\u001b[0m\u001b[0m\n\u001b[0;32m--> 556\u001b[0;31m         \u001b[0maln\u001b[0m\u001b[0;34m.\u001b[0m\u001b[0mappend\u001b[0m\u001b[0;34m(\u001b[0m\u001b[0mfile\u001b[0m\u001b[0;34m=\u001b[0m\u001b[0mself\u001b[0m\u001b[0;34m.\u001b[0m\u001b[0malnfile\u001b[0m\u001b[0;34m,\u001b[0m \u001b[0malign_codes\u001b[0m\u001b[0;34m=\u001b[0m\u001b[0mcodes\u001b[0m\u001b[0;34m)\u001b[0m\u001b[0;34m\u001b[0m\u001b[0;34m\u001b[0m\u001b[0m\n\u001b[0m\u001b[1;32m    557\u001b[0m         \u001b[0;32mreturn\u001b[0m \u001b[0maln\u001b[0m\u001b[0;34m\u001b[0m\u001b[0;34m\u001b[0m\u001b[0m\n\u001b[1;32m    558\u001b[0m \u001b[0;34m\u001b[0m\u001b[0m\n",
      "\u001b[0;32m~/anaconda3/envs/pymdtools-env/lib/python3.7/site-packages/modeller/alignment.py\u001b[0m in \u001b[0;36mappend\u001b[0;34m(self, file, align_codes, atom_files, remove_gaps, alignment_format, io, allow_alternates)\u001b[0m\n\u001b[1;32m     78\u001b[0m         return func(self.modpt, io.modpt, self.env.libs.modpt, align_codes,\n\u001b[1;32m     79\u001b[0m                     \u001b[0matom_files\u001b[0m\u001b[0;34m,\u001b[0m \u001b[0mfh\u001b[0m\u001b[0;34m.\u001b[0m\u001b[0mfile_pointer\u001b[0m\u001b[0;34m,\u001b[0m \u001b[0mremove_gaps\u001b[0m\u001b[0;34m,\u001b[0m \u001b[0malignment_format\u001b[0m\u001b[0;34m,\u001b[0m\u001b[0;34m\u001b[0m\u001b[0;34m\u001b[0m\u001b[0m\n\u001b[0;32m---> 80\u001b[0;31m                     allow_alternates)\n\u001b[0m\u001b[1;32m     81\u001b[0m \u001b[0;34m\u001b[0m\u001b[0m\n\u001b[1;32m     82\u001b[0m     \u001b[0;32mdef\u001b[0m \u001b[0mread\u001b[0m\u001b[0;34m(\u001b[0m\u001b[0mself\u001b[0m\u001b[0;34m,\u001b[0m \u001b[0;34m**\u001b[0m\u001b[0mvars\u001b[0m\u001b[0;34m)\u001b[0m\u001b[0;34m:\u001b[0m\u001b[0;34m\u001b[0m\u001b[0;34m\u001b[0m\u001b[0m\n",
      "\u001b[0;31mOSError\u001b[0m: pdbnam_____E> Filename for PDB code not found: dbl6e\n              Directories: .:atom_files\n              Extensions : :.atm:.pdb:.ent:.cif:.crd\n              (Also tried prepending 'pdb', looking for .Z, .gz, .bz2, .7z, .xz,\n              and trying PDB-style subdirectories - e.g. ab for pdb1abc.ent)\n"
     ]
    }
   ],
   "source": [
    "from modeller import *\n",
    "from modeller.automodel import *    # Load the automodel class\n",
    "\n",
    "log.verbose()\n",
    "env = environ()\n",
    "\n",
    "# directories for input atom files\n",
    "env.io.atom_files_directory = ['.', 'atom_files']\n",
    "\n",
    "a = loopmodel(env, alnfile = 'protein-alignment.ali',\n",
    "              knowns = 'dbl6e', sequence = 'dbl6e_fill')\n",
    "a.starting_model= 1\n",
    "a.ending_model  = 1\n",
    "\n",
    "a.loop.starting_model = 1\n",
    "a.loop.ending_model   = 2\n",
    "a.loop.md_level       = refine.fast\n",
    "\n",
    "a.make()\n"
   ]
  },
  {
   "cell_type": "markdown",
   "metadata": {},
   "source": [
    "# Sandbox"
   ]
  },
  {
   "cell_type": "code",
   "execution_count": null,
   "metadata": {},
   "outputs": [],
   "source": [
    "cadena.replace(\"-\", \"wtf?!\", 1)"
   ]
  },
  {
   "cell_type": "code",
   "execution_count": null,
   "metadata": {},
   "outputs": [],
   "source": [
    "type(seq1(mis_res['res_name']))"
   ]
  },
  {
   "cell_type": "code",
   "execution_count": null,
   "metadata": {},
   "outputs": [],
   "source": [
    "structure.id"
   ]
  },
  {
   "cell_type": "code",
   "execution_count": null,
   "metadata": {},
   "outputs": [],
   "source": [
    "a = \"hola\""
   ]
  },
  {
   "cell_type": "code",
   "execution_count": null,
   "metadata": {},
   "outputs": [],
   "source": [
    "a.join(structure.id)"
   ]
  },
  {
   "cell_type": "code",
   "execution_count": null,
   "metadata": {},
   "outputs": [],
   "source": [
    "7*':'"
   ]
  },
  {
   "cell_type": "code",
   "execution_count": null,
   "metadata": {},
   "outputs": [],
   "source": []
  }
 ],
 "metadata": {
  "kernelspec": {
   "display_name": "Python 3",
   "language": "python",
   "name": "python3"
  },
  "language_info": {
   "codemirror_mode": {
    "name": "ipython",
    "version": 3
   },
   "file_extension": ".py",
   "mimetype": "text/x-python",
   "name": "python",
   "nbconvert_exporter": "python",
   "pygments_lexer": "ipython3",
   "version": "3.7.2"
  }
 },
 "nbformat": 4,
 "nbformat_minor": 2
}
